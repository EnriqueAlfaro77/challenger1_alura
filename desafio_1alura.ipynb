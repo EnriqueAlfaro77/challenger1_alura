{
  "nbformat": 4,
  "nbformat_minor": 0,
  "metadata": {
    "colab": {
      "provenance": [],
      "authorship_tag": "ABX9TyNOX8yy5wnt3GPCF+4CLsul",
      "include_colab_link": true
    },
    "kernelspec": {
      "name": "python3",
      "display_name": "Python 3"
    },
    "language_info": {
      "name": "python"
    }
  },
  "cells": [
    {
      "cell_type": "markdown",
      "metadata": {
        "id": "view-in-github",
        "colab_type": "text"
      },
      "source": [
        "<a href=\"https://colab.research.google.com/github/EnriqueAlfaro77/challenger1_alura/blob/main/desafio_1alura.ipynb\" target=\"_parent\"><img src=\"https://colab.research.google.com/assets/colab-badge.svg\" alt=\"Open In Colab\"/></a>"
      ]
    },
    {
      "cell_type": "code",
      "source": [
        "import pandas as pd\n",
        "\n",
        "tienda1= pd.read_csv(\"tienda_1.csv\")\n",
        "tienda2= pd.read_csv(\"tienda_2.csv\")\n",
        "tienda3= pd.read_csv(\"tienda_3.csv\")\n",
        "tienda4= pd.read_csv(\"tienda_4.csv\")\n",
        "\n"
      ],
      "metadata": {
        "collapsed": true,
        "id": "MycJehBLvNpM"
      },
      "execution_count": 26,
      "outputs": []
    },
    {
      "cell_type": "code",
      "source": [
        "import pandas as pd\n",
        "import matplotlib.pyplot as plt\n",
        "\n"
      ],
      "metadata": {
        "id": "dQzEirv32sRb"
      },
      "execution_count": 27,
      "outputs": []
    },
    {
      "cell_type": "code",
      "source": [
        "ingreso_tienda1 = tienda1['Precio'].sum()\n",
        "ingreso_tienda2 = tienda2['Precio'].sum()\n",
        "ingreso_tienda3 = tienda3['Precio'].sum()\n",
        "ingreso_tienda4 = tienda4['Precio'].sum()\n",
        "\n",
        "print(\"Ingresos totales por tienda:\")\n",
        "print(f\"Tienda 1: ${ingreso_tienda1:,.0f}\")\n",
        "print(f\"Tienda 2: ${ingreso_tienda2:,.0f}\")\n",
        "print(f\"Tienda 3: ${ingreso_tienda3:,.0f}\")\n",
        "print(f\"Tienda 4: ${ingreso_tienda4:,.0f}\")"
      ],
      "metadata": {
        "collapsed": true,
        "id": "AulmE-v06ybm"
      },
      "execution_count": null,
      "outputs": []
    },
    {
      "cell_type": "code",
      "source": [
        "print(\"Categorías más vendidas - Tienda 1:\")\n",
        "print(tienda1['Categoría del Producto'].value_counts())\n",
        "print(\"\\nCategorías más vendidas - Tienda 2:\")\n",
        "print(tienda2['Categoría del Producto'].value_counts())\n",
        "print(\"\\nCategorías más vendidas - Tienda 3:\")\n",
        "print(tienda3['Categoría del Producto'].value_counts())\n",
        "print(\"\\nCategorías más vendidas - Tienda 4:\")\n",
        "print(tienda4['Categoría del Producto'].value_counts())\n"
      ],
      "metadata": {
        "id": "yyeR0N9Z8SWE"
      },
      "execution_count": null,
      "outputs": []
    },
    {
      "cell_type": "code",
      "source": [
        "mas_vendida_t1 = tienda1['Categoría del Producto'].value_counts().idxmax()\n",
        "cantidad_t1 = tienda1['Categoría del Producto'].value_counts().max()\n",
        "mas_vendida_t2 = tienda2['Categoría del Producto'].value_counts().idxmax()\n",
        "cantidad_t2 = tienda2['Categoría del Producto'].value_counts().max()\n",
        "mas_vendida_t3 = tienda3['Categoría del Producto'].value_counts().idxmax()\n",
        "cantidad_t3 = tienda3['Categoría del Producto'].value_counts().max()\n",
        "mas_vendida_t4 = tienda4['Categoría del Producto'].value_counts().idxmax()\n",
        "cantidad_t4 = tienda4['Categoría del Producto'].value_counts().max()\n",
        "\n",
        "print(f\"Tienda 1: {mas_vendida_t1} ({cantidad_t1} ventas)\")\n",
        "print(f\"Tienda 2: {mas_vendida_t2} ({cantidad_t2} ventas)\")\n",
        "print(f\"Tienda 3: {mas_vendida_t3} ({cantidad_t3} ventas)\")\n",
        "print(f\"Tienda 4: {mas_vendida_t4} ({cantidad_t4} ventas)\")\n"
      ],
      "metadata": {
        "id": "x6j7ifay-KP_"
      },
      "execution_count": null,
      "outputs": []
    },
    {
      "cell_type": "code",
      "source": [
        "calif_tienda1 = tienda1['Calificación'].mean()\n",
        "calif_tienda2 = tienda2['Calificación'].mean()\n",
        "calif_tienda3 = tienda3['Calificación'].mean()\n",
        "calif_tienda4 = tienda4['Calificación'].mean()\n",
        "\n",
        "print(\"Calificación promedio por tienda:\")\n",
        "print(f\"Tienda 1: {calif_tienda1:.2f}\")\n",
        "print(f\"Tienda 2: {calif_tienda2:.2f}\")\n",
        "print(f\"Tienda 3: {calif_tienda3:.2f}\")\n",
        "print(f\"Tienda 4: {calif_tienda4:.2f}\")\n"
      ],
      "metadata": {
        "id": "nkUOk29k-zLn"
      },
      "execution_count": null,
      "outputs": []
    },
    {
      "cell_type": "code",
      "source": [
        "for i, tienda in enumerate([tienda1, tienda2, tienda3, tienda4], start=1):\n",
        "    ventas_productos = tienda['Producto'].value_counts()\n",
        "    mas_vendido = ventas_productos.idxmax()\n",
        "    menos_vendido = ventas_productos.idxmin()\n",
        "    print(f\"Tienda {i}:\")\n",
        "    print(f\"  Producto más vendido: {mas_vendido} ({ventas_productos.max()} unidades)\")\n",
        "    print(f\"  Producto menos vendido: {menos_vendido} ({ventas_productos.min()} unidades)\")\n",
        "\n"
      ],
      "metadata": {
        "id": "jmIBn1qvAday"
      },
      "execution_count": null,
      "outputs": []
    },
    {
      "cell_type": "code",
      "source": [
        "envio_t1 = tienda1['Costo de envío'].mean()\n",
        "envio_t2 = tienda2['Costo de envío'].mean()\n",
        "envio_t3 = tienda3['Costo de envío'].mean()\n",
        "envio_t4 = tienda4['Costo de envío'].mean()\n",
        "\n",
        "print(\"Costo promedio de envío por tienda:\")\n",
        "print(f\"Tienda 1: ${envio_t1:.2f}\")\n",
        "print(f\"Tienda 2: ${envio_t2:.2f}\")\n",
        "print(f\"Tienda 3: ${envio_t3:.2f}\")\n",
        "print(f\"Tienda 4: ${envio_t4:.2f}\")\n"
      ],
      "metadata": {
        "id": "SH1n62gaB2fH"
      },
      "execution_count": null,
      "outputs": []
    },
    {
      "cell_type": "code",
      "source": [
        "plt.figure(figsize=(8, 5))\n",
        "plt.bar(nombres_tiendas, ingresos, color='blue')\n",
        "plt.title(\"Ingresos Totales por Tienda\")\n",
        "plt.ylabel(\"Ingresos ($)\")\n",
        "plt.xlabel(\"Tienda\")\n",
        "plt.tight_layout()\n",
        "plt.show()\n"
      ],
      "metadata": {
        "id": "C_SJg0F4D6jS"
      },
      "execution_count": null,
      "outputs": []
    },
    {
      "cell_type": "code",
      "source": [
        "categorias_t1 = tienda1['Categoría del Producto'].value_counts()\n",
        "plt.figure(figsize=(6, 6))\n",
        "plt.pie(categorias_t1, labels=categorias_t1.index, autopct='%1.1f%%', startangle=90)\n",
        "plt.title(\"Distribución de Categorías – Tienda 1\")\n",
        "plt.axis('equal')\n",
        "plt.tight_layout()\n",
        "plt.show()\n"
      ],
      "metadata": {
        "id": "eNUQodmZEq6V"
      },
      "execution_count": null,
      "outputs": []
    },
    {
      "cell_type": "code",
      "source": [],
      "metadata": {
        "id": "5XX0Xq6YPSDv"
      },
      "execution_count": null,
      "outputs": []
    },
    {
      "cell_type": "code",
      "source": [
        "categorias_t2 = tienda2['Categoría del Producto'].value_counts()\n",
        "plt.figure(figsize=(6, 6))\n",
        "plt.pie(categorias_t2, labels=categorias_t2.index, autopct='%1.1f%%', startangle=90)\n",
        "plt.title(\"Distribución de Categorías – Tienda 2\")\n",
        "plt.axis('equal')\n",
        "plt.tight_layout()\n",
        "plt.show()\n"
      ],
      "metadata": {
        "id": "CdckZjqyGXru"
      },
      "execution_count": null,
      "outputs": []
    },
    {
      "cell_type": "code",
      "source": [
        "categorias_t3 = tienda3['Categoría del Producto'].value_counts()\n",
        "plt.figure(figsize=(6, 6))\n",
        "plt.pie(categorias_t3, labels=categorias_t3.index, autopct='%1.1f%%', startangle=90)\n",
        "plt.title(\"Distribución de Categorías – Tienda 3\")\n",
        "plt.axis('equal')\n",
        "plt.tight_layout()\n",
        "plt.show()\n"
      ],
      "metadata": {
        "id": "xf1r9zq2G3gb"
      },
      "execution_count": null,
      "outputs": []
    },
    {
      "cell_type": "code",
      "source": [
        "categorias_t4 = tienda1['Categoría del Producto'].value_counts()\n",
        "plt.figure(figsize=(6, 6))\n",
        "plt.pie(categorias_t4, labels=categorias_t4.index, autopct='%1.1f%%', startangle=90)\n",
        "plt.title(\"Distribución de Categorías – Tienda 4\")\n",
        "plt.axis('equal')\n",
        "plt.tight_layout()\n",
        "plt.show()\n"
      ],
      "metadata": {
        "id": "7p8FhWUIG4Nt"
      },
      "execution_count": null,
      "outputs": []
    },
    {
      "cell_type": "code",
      "source": [
        "plt.figure(figsize=(10, 6))\n",
        "plt.scatter(tienda1['Costo de envío'], tienda1['Calificación'], alpha=0.6, label='Tienda 1')\n",
        "plt.scatter(tienda2['Costo de envío'], tienda2['Calificación'], alpha=0.6, label='Tienda 2')\n",
        "plt.scatter(tienda3['Costo de envío'], tienda3['Calificación'], alpha=0.6, label='Tienda 3')\n",
        "plt.scatter(tienda4['Costo de envío'], tienda4['Calificación'], alpha=0.6, label='Tienda 4')\n",
        "plt.title(\"Relación entre Costo de Envío y Calificación\")\n",
        "plt.xlabel(\"Costo de Envío ($)\")\n",
        "plt.ylabel(\"Calificación del Cliente\")\n",
        "plt.legend()\n",
        "plt.grid(True, linestyle='--', alpha=0.6)\n",
        "plt.tight_layout()\n",
        "plt.show()\n"
      ],
      "metadata": {
        "id": "7pINDBSzHN2W"
      },
      "execution_count": null,
      "outputs": []
    },
    {
      "cell_type": "markdown",
      "source": [
        "Informe Final\n",
        "\n",
        "Tras el análisis detallado de las cuatro tiendas de Alura Store, se evaluaron múltiples indicadores clave: ingresos totales, categorías de productos más vendidas, calificaciones promedio otorgadas por los clientes, productos más y menos vendidos, y el costo promedio de envío.\n",
        "\n",
        "Si bien la Tienda 1 presenta los mayores ingresos ($1.150.880.400), también es la tienda con la peor calificación promedio por parte de los clientes (3,98) y la que incurre en los mayores costos promedio de envío ($26.018,61). Estos dos aspectos son críticos, ya que reflejan ineficiencias operativas y problemas en la experiencia del cliente, factores que pueden poner en riesgo la sostenibilidad de esta tienda en el largo plazo.\n",
        "\n",
        "Por otro lado, la Tienda 4, aunque tiene los menores ingresos ($1.038.375.700), posee una calificación superior (4,00) y es la más eficiente en términos de logística, con el costo promedio de envío más bajo ($23.459,46).\n",
        "\n",
        " Recomendación:\n",
        "Se recomienda al Sr. Juan considerar la venta de la Tienda 1. A pesar de sus altos ingresos actuales, esta tienda presenta señales de alerta en términos de satisfacción del cliente y costos operativos. Su baja calificación y altos costos de envío podrían afectar su desempeño futuro si no se corrigen. Vender esta unidad permitiría capitalizar sus ingresos actuales y redirigir la inversión hacia una tienda más eficiente o un nuevo negocio con mejores perspectivas.\n"
      ],
      "metadata": {
        "id": "bsRmEr_eQPMg"
      }
    }
  ]
}